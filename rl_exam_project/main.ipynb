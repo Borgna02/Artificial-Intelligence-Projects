{
 "cells": [
  {
   "cell_type": "code",
   "execution_count": 1,
   "metadata": {},
   "outputs": [],
   "source": [
    "from environment import Environment\n",
    "from agent import Agent"
   ]
  },
  {
   "cell_type": "code",
   "execution_count": 2,
   "metadata": {},
   "outputs": [],
   "source": [
    "walls = [\n",
    "    # Vertical walls between x = 0 and x = 1\n",
    "    ((0, 1), (1, 1)), \n",
    "    \n",
    "    \n",
    "    ((0, 2), (1, 2)), \n",
    "    ((0, 3), (1, 3)), \n",
    "    ((0, 4), (1, 4)),\n",
    "\n",
    "    # Vertical walls between x = 1 and x = 2\n",
    "    ((1, 3), (2, 3)),\n",
    "\n",
    "    # Vertical walls between x = 4 and x = 5\n",
    "    ((4, 1), (5, 1)), ((4, 2), (5, 2)), ((4, 3), (5, 3)), ((4, 4), (5, 4)),\n",
    "\n",
    "    # Vertical walls between x = 5 and x = 6\n",
    "    ((5, 1), (6, 1)), ((5, 2), (6, 2)), ((5, 3), (6, 3)), ((5, 4), (6, 4)),\n",
    "\n",
    "    # Vertical walls between x = 7 and x = 8\n",
    "    ((7, 2), (8, 2)), ((7, 3), (8, 3)),\n",
    "\n",
    "    # Vertical walls between x = 9 and x = 10\n",
    "    ((9, 1), (10, 1)), ((9, 2), (10, 2)), ((9, 3), (10, 3)), ((9, 4), (10, 4)),\n",
    "\n",
    "    # Horizontal walls between y = 0 and y = 1\n",
    "    ((1, 0), (1, 1)), ((2, 0), (2, 1)), ((3, 0), (3, 1)), ((4, 0), (4, 1)), ((\n",
    "        6, 0), (6, 1)), ((7, 0), (7, 1)), ((8, 0), (8, 1)), ((9, 0), (9, 1)),\n",
    "\n",
    "    # Horizontal walls between y = 1 and y = 2\n",
    "    ((1, 1), (1, 2)), ((2, 1), (2, 2)), ((3, 1), (3, 2)), ((8, 1), (8, 2)),\n",
    "\n",
    "    # Horizontal walls between y = 2 and y = 3\n",
    "    ((2, 2), (2, 3)), ((3, 2), (3, 3)),\n",
    "\n",
    "    # Horizontal walls between y = 3 and y = 4\n",
    "    ((1, 3), (1, 4)), ((8, 3), (8, 4)), ((9, 3), (9, 4)),\n",
    "\n",
    "    # Horizontal walls between y = 4 and y = 5\n",
    "    ((1, 4), (1, 5)), ((2, 4), (2, 5)), ((3, 4), (3, 5)), ((4, 4), (4, 5)), ((\n",
    "        6, 4), (6, 5)), ((7, 4), (7, 5)), ((8, 4), (8, 5)), ((9, 4), (9, 5)),\n",
    "\n",
    "]\n",
    "\n",
    "\n",
    "env = Environment(map_width=9, map_height=4, walls=walls, frying_pans=[\n",
    "                  (1, 4)], ovens=[(8, 4)], egg_beaters=[(1, 3), (8, 3)], gates=[(4, 2), (9, 3)], recipe=\"pudding\")"
   ]
  },
  {
   "cell_type": "code",
   "execution_count": 3,
   "metadata": {},
   "outputs": [
    {
     "data": {
      "image/png": "[encoded data removed]",
      "text/plain": [
       "<Figure size 900x200 with 1 Axes>"
      ]
     },
     "metadata": {},
     "output_type": "display_data"
    }
   ],
   "source": [
    "# Disegna la mappa\n",
    "env.draw_map()\n",
    "\n"
   ]
  },
  {
   "cell_type": "code",
   "execution_count": 4,
   "metadata": {},
   "outputs": [],
   "source": [
    "agent = Agent(env)"
   ]
  },
  {
   "cell_type": "code",
   "execution_count": 5,
   "metadata": {},
   "outputs": [
    {
     "name": "stdout",
     "output_type": "stream",
     "text": [
      "0  |  ((5, 3, <CellType.EMPTY: 4>, <CookingStates.EB_FOR_PUDDING: 1>), <Actions.DOWN: 2>): 31.86625, ((5, 2, <CellType.EMPTY: 4>, <CookingStates.EB_FOR_PUDDING: 1>), <Actions.LEFT: 1>): 25.725, ((4, 2, <CellType.GATE: 3>, <CookingStates.EB_FOR_PUDDING: 1>), <Actions.DOWN: 2>): 18.5, ((4, 1, <CellType.EMPTY: 4>, <CookingStates.EB_FOR_PUDDING: 1>), <Actions.LEFT: 1>): 10.0\n",
      "1  |  ((5, 3, <CellType.EMPTY: 4>, <CookingStates.EB_FOR_PUDDING: 1>), <Actions.DOWN: 2>): 31.86625, ((5, 2, <CellType.EMPTY: 4>, <CookingStates.EB_FOR_PUDDING: 1>), <Actions.LEFT: 1>): 25.725, ((4, 2, <CellType.GATE: 3>, <CookingStates.EB_FOR_PUDDING: 1>), <Actions.DOWN: 2>): 18.5, ((4, 1, <CellType.EMPTY: 4>, <CookingStates.EB_FOR_PUDDING: 1>), <Actions.LEFT: 1>): 10.0, ((4, 4, <CellType.EMPTY: 4>, <CookingStates.EB_FOR_PUDDING: 1>), <Actions.UP: 0>): 41.523365625, ((4, 4, <CellType.EMPTY: 4>, <CookingStates.EB_FOR_PUDDING: 1>), <Actions.DOWN: 2>): 37.0863125, ((4, 3, <CellType.EMPTY: 4>, <CookingStates.EB_FOR_PUDDING: 1>), <Actions.RIGHT: 3>): 28.795625, ((4, 3, <CellType.EMPTY: 4>, <CookingStates.EB_FOR_PUDDING: 1>), <Actions.DOWN: 2>): 18.5, ((4, 2, <CellType.GATE: 3>, <CookingStates.EB_FOR_PUDDING: 1>), <Actions.LEFT: 1>): 10.0\n",
      "2  |  ((5, 3, <CellType.EMPTY: 4>, <CookingStates.EB_FOR_PUDDING: 1>), <Actions.DOWN: 2>): 31.86625, ((5, 2, <CellType.EMPTY: 4>, <CookingStates.EB_FOR_PUDDING: 1>), <Actions.LEFT: 1>): 25.725, ((4, 2, <CellType.GATE: 3>, <CookingStates.EB_FOR_PUDDING: 1>), <Actions.DOWN: 2>): 18.5, ((4, 1, <CellType.EMPTY: 4>, <CookingStates.EB_FOR_PUDDING: 1>), <Actions.LEFT: 1>): 10.0, ((4, 4, <CellType.EMPTY: 4>, <CookingStates.EB_FOR_PUDDING: 1>), <Actions.UP: 0>): 41.523365625, ((4, 4, <CellType.EMPTY: 4>, <CookingStates.EB_FOR_PUDDING: 1>), <Actions.DOWN: 2>): 37.0863125, ((4, 3, <CellType.EMPTY: 4>, <CookingStates.EB_FOR_PUDDING: 1>), <Actions.RIGHT: 3>): 28.795625, ((4, 3, <CellType.EMPTY: 4>, <CookingStates.EB_FOR_PUDDING: 1>), <Actions.DOWN: 2>): 18.5, ((4, 2, <CellType.GATE: 3>, <CookingStates.EB_FOR_PUDDING: 1>), <Actions.LEFT: 1>): 10.0, ((6, 3, <CellType.EMPTY: 4>, <CookingStates.EB_FOR_PUDDING: 1>), <Actions.UP: 0>): 31.86625, ((6, 4, <CellType.EMPTY: 4>, <CookingStates.EB_FOR_PUDDING: 1>), <Actions.RIGHT: 3>): 25.725, ((7, 4, <CellType.EMPTY: 4>, <CookingStates.EB_FOR_PUDDING: 1>), <Actions.RIGHT: 3>): 18.5, ((8, 4, <CellType.OVEN: 1>, <CookingStates.EB_FOR_PUDDING: 1>), <Actions.UP: 0>): 10.0\n",
      "3  |  ((5, 3, <CellType.EMPTY: 4>, <CookingStates.EB_FOR_PUDDING: 1>), <Actions.DOWN: 2>): 31.86625, ((5, 2, <CellType.EMPTY: 4>, <CookingStates.EB_FOR_PUDDING: 1>), <Actions.LEFT: 1>): 25.725, ((4, 2, <CellType.GATE: 3>, <CookingStates.EB_FOR_PUDDING: 1>), <Actions.DOWN: 2>): 18.5, ((4, 1, <CellType.EMPTY: 4>, <CookingStates.EB_FOR_PUDDING: 1>), <Actions.LEFT: 1>): 10.0, ((4, 4, <CellType.EMPTY: 4>, <CookingStates.EB_FOR_PUDDING: 1>), <Actions.UP: 0>): 41.523365625, ((4, 4, <CellType.EMPTY: 4>, <CookingStates.EB_FOR_PUDDING: 1>), <Actions.DOWN: 2>): 37.0863125, ((4, 3, <CellType.EMPTY: 4>, <CookingStates.EB_FOR_PUDDING: 1>), <Actions.RIGHT: 3>): 28.795625, ((4, 3, <CellType.EMPTY: 4>, <CookingStates.EB_FOR_PUDDING: 1>), <Actions.DOWN: 2>): 18.5, ((4, 2, <CellType.GATE: 3>, <CookingStates.EB_FOR_PUDDING: 1>), <Actions.LEFT: 1>): 20.933125, ((6, 3, <CellType.EMPTY: 4>, <CookingStates.EB_FOR_PUDDING: 1>), <Actions.UP: 0>): 31.86625, ((6, 4, <CellType.EMPTY: 4>, <CookingStates.EB_FOR_PUDDING: 1>), <Actions.RIGHT: 3>): 25.725, ((7, 4, <CellType.EMPTY: 4>, <CookingStates.EB_FOR_PUDDING: 1>), <Actions.RIGHT: 3>): 18.5, ((8, 4, <CellType.OVEN: 1>, <CookingStates.EB_FOR_PUDDING: 1>), <Actions.UP: 0>): 10.0, ((3, 2, <CellType.EMPTY: 4>, <CookingStates.EB_FOR_PUDDING: 1>), <Actions.OTHER_SIDE: 4>): 25.725, ((3, 2, <CellType.EMPTY: 4>, <CookingStates.EB_FOR_PUDDING_OS: 5>), <Actions.UP: 0>): 18.5, ((3, 2, <CellType.EMPTY: 4>, <CookingStates.EB_FOR_PUDDING_OS: 5>), <Actions.RIGHT: 3>): 10.0\n",
      "4  |  ((5, 3, <CellType.EMPTY: 4>, <CookingStates.EB_FOR_PUDDING: 1>), <Actions.DOWN: 2>): 31.86625, ((5, 2, <CellType.EMPTY: 4>, <CookingStates.EB_FOR_PUDDING: 1>), <Actions.LEFT: 1>): 25.725, ((4, 2, <CellType.GATE: 3>, <CookingStates.EB_FOR_PUDDING: 1>), <Actions.DOWN: 2>): 18.5, ((4, 1, <CellType.EMPTY: 4>, <CookingStates.EB_FOR_PUDDING: 1>), <Actions.LEFT: 1>): 10.0, ((4, 4, <CellType.EMPTY: 4>, <CookingStates.EB_FOR_PUDDING: 1>), <Actions.UP: 0>): 41.523365625, ((4, 4, <CellType.EMPTY: 4>, <CookingStates.EB_FOR_PUDDING: 1>), <Actions.DOWN: 2>): 37.0863125, ((4, 3, <CellType.EMPTY: 4>, <CookingStates.EB_FOR_PUDDING: 1>), <Actions.RIGHT: 3>): 28.795625, ((4, 3, <CellType.EMPTY: 4>, <CookingStates.EB_FOR_PUDDING: 1>), <Actions.DOWN: 2>): 18.5, ((4, 2, <CellType.GATE: 3>, <CookingStates.EB_FOR_PUDDING: 1>), <Actions.LEFT: 1>): 20.933125, ((6, 3, <CellType.EMPTY: 4>, <CookingStates.EB_FOR_PUDDING: 1>), <Actions.UP: 0>): 31.86625, ((6, 4, <CellType.EMPTY: 4>, <CookingStates.EB_FOR_PUDDING: 1>), <Actions.RIGHT: 3>): 25.725, ((7, 4, <CellType.EMPTY: 4>, <CookingStates.EB_FOR_PUDDING: 1>), <Actions.RIGHT: 3>): 18.5, ((8, 4, <CellType.OVEN: 1>, <CookingStates.EB_FOR_PUDDING: 1>), <Actions.UP: 0>): 10.0, ((3, 2, <CellType.EMPTY: 4>, <CookingStates.EB_FOR_PUDDING: 1>), <Actions.OTHER_SIDE: 4>): 25.725, ((3, 2, <CellType.EMPTY: 4>, <CookingStates.EB_FOR_PUDDING_OS: 5>), <Actions.UP: 0>): 18.5, ((3, 2, <CellType.EMPTY: 4>, <CookingStates.EB_FOR_PUDDING_OS: 5>), <Actions.RIGHT: 3>): 10.0, ((4, 4, <CellType.EMPTY: 4>, <CookingStates.EB_FOR_PUDDING: 1>), <Actions.OTHER_SIDE: 4>): 37.0863125, ((4, 4, <CellType.EMPTY: 4>, <CookingStates.EB_FOR_PUDDING_OS: 5>), <Actions.DOWN: 2>): 31.86625, ((4, 3, <CellType.EMPTY: 4>, <CookingStates.EB_FOR_PUDDING: 1>), <Actions.OTHER_SIDE: 4>): 25.725, ((4, 3, <CellType.EMPTY: 4>, <CookingStates.EB_FOR_PUDDING_OS: 5>), <Actions.RIGHT: 3>): 18.5, ((4, 3, <CellType.EMPTY: 4>, <CookingStates.EB_FOR_PUDDING_OS: 5>), <Actions.OTHER_SIDE: 4>): 10.0\n",
      "5  |  ((5, 3, <CellType.EMPTY: 4>, <CookingStates.EB_FOR_PUDDING: 1>), <Actions.DOWN: 2>): 31.86625, ((5, 2, <CellType.EMPTY: 4>, <CookingStates.EB_FOR_PUDDING: 1>), <Actions.LEFT: 1>): 25.725, ((4, 2, <CellType.GATE: 3>, <CookingStates.EB_FOR_PUDDING: 1>), <Actions.DOWN: 2>): 18.5, ((4, 1, <CellType.EMPTY: 4>, <CookingStates.EB_FOR_PUDDING: 1>), <Actions.LEFT: 1>): 10.0, ((4, 4, <CellType.EMPTY: 4>, <CookingStates.EB_FOR_PUDDING: 1>), <Actions.UP: 0>): 41.523365625, ((4, 4, <CellType.EMPTY: 4>, <CookingStates.EB_FOR_PUDDING: 1>), <Actions.DOWN: 2>): 37.0863125, ((4, 3, <CellType.EMPTY: 4>, <CookingStates.EB_FOR_PUDDING: 1>), <Actions.RIGHT: 3>): 28.795625, ((4, 3, <CellType.EMPTY: 4>, <CookingStates.EB_FOR_PUDDING: 1>), <Actions.DOWN: 2>): 18.5, ((4, 2, <CellType.GATE: 3>, <CookingStates.EB_FOR_PUDDING: 1>), <Actions.LEFT: 1>): 20.933125, ((6, 3, <CellType.EMPTY: 4>, <CookingStates.EB_FOR_PUDDING: 1>), <Actions.UP: 0>): 31.86625, ((6, 4, <CellType.EMPTY: 4>, <CookingStates.EB_FOR_PUDDING: 1>), <Actions.RIGHT: 3>): 25.725, ((7, 4, <CellType.EMPTY: 4>, <CookingStates.EB_FOR_PUDDING: 1>), <Actions.RIGHT: 3>): 18.5, ((8, 4, <CellType.OVEN: 1>, <CookingStates.EB_FOR_PUDDING: 1>), <Actions.UP: 0>): 10.0, ((3, 2, <CellType.EMPTY: 4>, <CookingStates.EB_FOR_PUDDING: 1>), <Actions.OTHER_SIDE: 4>): 25.725, ((3, 2, <CellType.EMPTY: 4>, <CookingStates.EB_FOR_PUDDING_OS: 5>), <Actions.UP: 0>): 18.5, ((3, 2, <CellType.EMPTY: 4>, <CookingStates.EB_FOR_PUDDING_OS: 5>), <Actions.RIGHT: 3>): 10.0, ((4, 4, <CellType.EMPTY: 4>, <CookingStates.EB_FOR_PUDDING: 1>), <Actions.OTHER_SIDE: 4>): 37.0863125, ((4, 4, <CellType.EMPTY: 4>, <CookingStates.EB_FOR_PUDDING_OS: 5>), <Actions.DOWN: 2>): 31.86625, ((4, 3, <CellType.EMPTY: 4>, <CookingStates.EB_FOR_PUDDING: 1>), <Actions.OTHER_SIDE: 4>): 25.725, ((4, 3, <CellType.EMPTY: 4>, <CookingStates.EB_FOR_PUDDING_OS: 5>), <Actions.RIGHT: 3>): 18.5, ((4, 3, <CellType.EMPTY: 4>, <CookingStates.EB_FOR_PUDDING_OS: 5>), <Actions.OTHER_SIDE: 4>): 10.0, ((9, 2, <CellType.EMPTY: 4>, <CookingStates.EB_FOR_PUDDING: 1>), <Actions.LEFT: 1>): 37.0863125, ((8, 2, <CellType.EMPTY: 4>, <CookingStates.EB_FOR_PUDDING: 1>), <Actions.RIGHT: 3>): 31.86625, ((9, 2, <CellType.EMPTY: 4>, <CookingStates.EB_FOR_PUDDING: 1>), <Actions.RIGHT: 3>): 25.725, ((9, 2, <CellType.EMPTY: 4>, <CookingStates.EB_FOR_PUDDING: 1>), <Actions.DOWN: 2>): 18.5, ((9, 1, <CellType.EMPTY: 4>, <CookingStates.EB_FOR_PUDDING: 1>), <Actions.LEFT: 1>): 10.0\n"
     ]
    },
    {
     "ename": "KeyError",
     "evalue": "(0, 1, <CellType.EMPTY: 4>, <CookingStates.EB_FOR_PUDDING: 1>)",
     "output_type": "error",
     "traceback": [
      "\u001b[1;31m---------------------------------------------------------------------------\u001b[0m",
      "\u001b[1;31mKeyError\u001b[0m                                  Traceback (most recent call last)",
      "Cell \u001b[1;32mIn[5], line 1\u001b[0m\n\u001b[1;32m----> 1\u001b[0m \u001b[43magent\u001b[49m\u001b[38;5;241;43m.\u001b[39;49m\u001b[43mincremental_mc_q\u001b[49m\u001b[43m(\u001b[49m\u001b[38;5;241;43m1000\u001b[39;49m\u001b[43m)\u001b[49m\n",
      "File \u001b[1;32md:\\Uni\\Magistrale\\1 anno\\AI\\Homeworks_AI\\rl_exam_project\\agent.py:45\u001b[0m, in \u001b[0;36mAgent.incremental_mc_q\u001b[1;34m(self, iterations)\u001b[0m\n\u001b[0;32m     43\u001b[0m \u001b[38;5;28mself\u001b[39m\u001b[38;5;241m.\u001b[39mQ \u001b[38;5;241m=\u001b[39m {}\n\u001b[0;32m     44\u001b[0m \u001b[38;5;28;01mfor\u001b[39;00m i \u001b[38;5;129;01min\u001b[39;00m \u001b[38;5;28mrange\u001b[39m(iterations):\n\u001b[1;32m---> 45\u001b[0m     episode \u001b[38;5;241m=\u001b[39m \u001b[38;5;28;43mself\u001b[39;49m\u001b[38;5;241;43m.\u001b[39;49m\u001b[43menv\u001b[49m\u001b[38;5;241;43m.\u001b[39;49m\u001b[43mget_episode\u001b[49m\u001b[43m(\u001b[49m\u001b[43m)\u001b[49m\n\u001b[0;32m     46\u001b[0m     T \u001b[38;5;241m=\u001b[39m \u001b[38;5;28mlen\u001b[39m(episode)\n\u001b[0;32m     48\u001b[0m     \u001b[38;5;28;01mfor\u001b[39;00m t \u001b[38;5;129;01min\u001b[39;00m \u001b[38;5;28mrange\u001b[39m(T):\n",
      "File \u001b[1;32md:\\Uni\\Magistrale\\1 anno\\AI\\Homeworks_AI\\rl_exam_project\\environment.py:171\u001b[0m, in \u001b[0;36mEnvironment.get_episode\u001b[1;34m(self)\u001b[0m\n\u001b[0;32m    168\u001b[0m next_state \u001b[38;5;241m=\u001b[39m next_states[np\u001b[38;5;241m.\u001b[39mrandom\u001b[38;5;241m.\u001b[39mchoice(\u001b[38;5;28mlen\u001b[39m(next_states), p\u001b[38;5;241m=\u001b[39mprobabilities)]\n\u001b[0;32m    170\u001b[0m \u001b[38;5;66;03m# Get reward\u001b[39;00m\n\u001b[1;32m--> 171\u001b[0m reward \u001b[38;5;241m=\u001b[39m \u001b[38;5;28;43mself\u001b[39;49m\u001b[38;5;241;43m.\u001b[39;49m\u001b[43mrewards\u001b[49m\u001b[43m[\u001b[49m\u001b[43mcurrent_state\u001b[49m\u001b[43m]\u001b[49m\u001b[43m[\u001b[49m\u001b[43maction\u001b[49m\u001b[43m]\u001b[49m\u001b[43m[\u001b[49m\u001b[43mnext_state\u001b[49m\u001b[43m]\u001b[49m\n\u001b[0;32m    173\u001b[0m \u001b[38;5;66;03m# Append to episode\u001b[39;00m\n\u001b[0;32m    174\u001b[0m episode\u001b[38;5;241m.\u001b[39mappend((current_state, action, reward))\n",
      "\u001b[1;31mKeyError\u001b[0m: (0, 1, <CellType.EMPTY: 4>, <CookingStates.EB_FOR_PUDDING: 1>)"
     ]
    }
   ],
   "source": [
    "agent.incremental_mc_q(1000)"
   ]
  }
 ],
 "metadata": {
  "kernelspec": {
   "display_name": ".venv",
   "language": "python",
   "name": "python3"
  },
  "language_info": {
   "codemirror_mode": {
    "name": "ipython",
    "version": 3
   },
   "file_extension": ".py",
   "mimetype": "text/x-python",
   "name": "python",
   "nbconvert_exporter": "python",
   "pygments_lexer": "ipython3",
   "version": "3.13.0"
  }
 },
 "nbformat": 4,
 "nbformat_minor": 2
}
